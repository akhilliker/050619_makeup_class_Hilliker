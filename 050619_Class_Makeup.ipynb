{
 "cells": [
  {
   "cell_type": "markdown",
   "metadata": {},
   "source": [
    "# 05/01/19 Class Makeup- Angie Hilliker\n",
    "\n",
    "I missed class as I was teaching  a class for the University at the same time as this class. I listened to the Panapto video from class, which started with a review of major concepts in javascript, including the concept of prototypes and some common methods of the prototype array.\n",
    "\n",
    "We reviewed how to log into Heroku and to create a repo with Heroku. We loaded in a requirement.txt file with the packages we need to load, runtime.txt which specifies the environment, procfile which defines the webserver and the main faile to use, and app.py with code to use Flask to create a local instance of the webpage.  This in case, my repo is named mighty-beach-70640 and contains the information to display a simple line chart.  A screen shot showing the list of files on my computer:\n",
    "![alt text](heroku1.png)\n",
    "\n",
    "And another screenshot showing the graph displayed on the local instance of my browser:\n",
    "![alt text](heroku2.png)\n"
   ]
  },
  {
   "cell_type": "markdown",
   "metadata": {},
   "source": [
    "We then spent time reviewing JavaScript, in particular array prototype methods, such as:\n",
    "* .map()- can apply a function to every element in an array\n",
    "* .sort()- returns an array with the values sorted ascending or descending, depending on how the values are compared.  Each value is compared to each other in pairs to sort.\n",
    "* .filter()- determines if each element meets some requirement (true or false) and returns a new array which contains all of the elements that evaluated as true"
   ]
  },
  {
   "cell_type": "markdown",
   "metadata": {},
   "source": [
    "We then reviewed the basics of D3 using ../16-D3/1/Activities/01-Evr_Binding_Data/Unsolved and following along with the instructor. We learned about chaining methods.  We used .data([]) to tether an array of data to existing elements we selected in the page.  I've learned that the order of the methods matters and that the presence of .enter will change where the new elements are appended.  I'm adding some note here for my benefit.  I can't promise they will be clear to anyone else!\n",
    "\n",
    "We started with an html page with three \"li\" elements within a \"ul\" list.\n",
    "\n",
    "I selected all 3 \"li\" elements within a \"ul\" list and used .data to bind an array of SIX elements ( integers 1-6), used .enter (because the instructor said to), .append(\"li\") to add new li elements, and .text to add a message with the new data in the DOM.  This created 3 more li elements that printed the text message.  Interestinly, the 6 elements in the array were bounds to the (now 6) li elements (visible only through a console log), but the .text command only printed to the new li elements (contained 4-6) in the DOM.  The original 3 li elements didn't change in the DOM.  \n",
    "\n",
    "Then, I used data to bind a new array of EIGHT elements (string a-h), using the same chaining as above.  2 new li elements were added to the end, the text printed in the DOM for those last 2 elements only (containing g and h), but the new array of data (a-h) was overwritten and bound to the (now) 8 li elements.\n",
    "\n",
    "Next, I used teh same syntax with a new array of eight elements (*, %, !, @, $, ^, (, #) but I removed the .enter() method. Now, 8 li elements were still appended, but they were children of the main 8 li elements in the ul list. Weird. You can still append, but as children if you have no .enter() method. \n",
    "\n",
    "Next, I used the same chain (without .enter()) and bound an array of 10 elements (W, T, F, W, T, F, W, T, F, !) to see where these children (grandchildren?) would go. Ten new li elements were added, but order of the strings was scrambled in the dom.  The order was TWWFFTTW, etc.  But when I looked in the html file, it was clear the the data was added in an order that I didn't expect. Element 1 (W) was added as a 2nd child of the 1st li element and element 2 (T) was added as the child of the child of the 1st li element (like a grandchild).  This pattern continued until there were not more elements in the array. \n",
    "\n",
    "What I learned was that if you add a longer data array using .append (but don't use .enter), the newly created li elements will be children of the original 3 li elements and the .text command will print in the DOM in the place of the children, but the .text method will not overwrite the original three li.  The \"children\" don't look any different from the parents in the DOM as there is nothing to indicate a different bullet or indent in the list (maybe this would require css styling?). Really, I could only tell the new li elements were children of the originals by seeing how the html tags changed.   \n",
    "\n",
    "I don't entirely understand .enter() yet, but it will allow li elements to be added within the scope of \"ul\" rather than adding them as children. \n",
    "\n",
    "![alt text](d3chaining.png)\n",
    "\n",
    "And here is the html structure showing the original li, its 2 children and one grandchild:\n",
    "\n",
    "![alt text](d3chaining_html.png)"
   ]
  },
  {
   "cell_type": "markdown",
   "metadata": {},
   "source": [
    "We walked through /16-D3/1/Activities/02-Ins_Complex_Data/Solved/index.html to see how we can add html tags and data inside the tags (in this case thumbnails of gifs). We then tried ../16-D3/1/Activities/03-Stu_D3_Table/Unsolved/ to add weather data to an html table. My files are called index.html and table.js and are included here.  This activity used .enter() to bind data and add new html tags (in this case, \"tr\" or table rows) for each element in the array.  To populate the array, we used .html() with a function that added a string of opening td tag + one of the keys from the array (like date) + a closing td tag. This sequence was repeated 3 times for each key in the array of weather date. \n",
    "Here's a shot of the .js code:\n",
    "![alt text](weather_js.png)\n",
    "\n",
    "And a shot of the resulting DOM:\n",
    "![alt text](weatherDOM.png)"
   ]
  },
  {
   "cell_type": "markdown",
   "metadata": {},
   "source": [
    "We then reviewed activity  ../16-D3/1/Activities/04-Evr_Enter_Exit_Update/Unsolved to explore more data binding AND begin to see how d3 could be used to create graphs. In this html, there was a style class called temps that set a 100x100 pixel square at every div element with that class.  There were 3 div elements to start. The .js file contained an array of 5 elements (integers representing temperatures). One could bind the 1s 3 elements of the array to the existing 3 div tags using .data() and then restyle these elements using .style() where the parameter referenced the \"height\" of the boxes and used a function to change that height from 100 to the number in the array.  Thus, the boxes became the height of the temperature, and when stacked side by side, look like a rudimentray bar chart.\n",
    "\n",
    "We then explored how different types of chaining with the enter method and selections on more than one line of code could allow one to add boxes for the extra data points and re-style only the original data points or only the new data points.\n",
    "\n",
    "To add elements and bind the new data AND re-style the original and new elements, we learned how to use .merge() to combine the newly bound data with the original data (stored in a variable that we could merge with). This allowed selection of all of the elements so that they could all be restyled. \n",
    "\n",
    "I'm seeing that one needs to think through the chaining carefully, especially with .enter() involved. It's almost like .enter() takes you into a new scope and the original data is outside of that scope and can't be altered.  So, another way to alter all of the elements, after appending, is to start a new line of code and write a select statement that will select the old and new elements and then add the methods for altering all the data together. I can imagine that it would be easy for a new d3 user to accidently alter only part of their data without realizing it, if they aren't tracking what is active in their selections/enters, etc.\n",
    "\n",
    "We were re-introduced to .exit().remove() which made sense when used within a function that (1) altered the number of html elements (to match the data array length) and (2) re-styled the bar height to match the data values. The function gives the flexibility to re-define the data array variable with new values and new numbers of elements so you can call the function again and regenerate the bar chart with the new data.  The function ended with \"selection.exit().remove()\" where \"selection\" is the name of the selection statment with the date bound to it. If the exit and remove method isn't present in the function, then when you redfine the variable with new values, the bar graph isn't reset and rebuilt. Instead the new array values will re-write over elements (but left over elements from a longer previous array are still present and not altered... so only part of the bar chart is changed).  The .exit() allows the program the leave the scope defined by .enter() and .remove() must get rid of bound data (although the data is still present in the console.log and html... so I'm not sure where that data lives that .remove() is clearing.  I also tested whether having .exit() is enough and it's not. So, clearly having .exit().remove() at the end of the function is vital to being able to re-call that function with new data sets. \n",
    "\n",
    "Here's a screen shot of the end of my experimentation with the code from this activity:\n",
    "\n",
    "![alt text](austinTemp.png) "
   ]
  },
  {
   "cell_type": "markdown",
   "metadata": {},
   "source": [
    "We reviewed activity ../16-D3/1/Activities/05-Ins_SVG/Solved to see how d3 could be used to make basic shapes.  I'm starting to see how these basic shapes, when combined in more complicated patterns can build graphs and other ways of visualizing data on a web page. TO begin to work with this, we were tasked with drawing a stick figure, which admittedly, I had too much fun with.  My code is enclosed (indexSVG.html) and a screen shot of my stick fig is shown here:\n",
    "\n",
    "![alt text](SVGperson.png) "
   ]
  },
  {
   "cell_type": "code",
   "execution_count": null,
   "metadata": {},
   "outputs": [],
   "source": []
  },
  {
   "cell_type": "code",
   "execution_count": null,
   "metadata": {},
   "outputs": [],
   "source": []
  }
 ],
 "metadata": {
  "kernelspec": {
   "display_name": "Python 3",
   "language": "python",
   "name": "python3"
  },
  "language_info": {
   "codemirror_mode": {
    "name": "ipython",
    "version": 3
   },
   "file_extension": ".py",
   "mimetype": "text/x-python",
   "name": "python",
   "nbconvert_exporter": "python",
   "pygments_lexer": "ipython3",
   "version": "3.7.1"
  }
 },
 "nbformat": 4,
 "nbformat_minor": 2
}
